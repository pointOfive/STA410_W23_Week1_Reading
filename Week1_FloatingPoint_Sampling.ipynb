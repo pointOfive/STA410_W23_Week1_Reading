{
  "nbformat": 4,
  "nbformat_minor": 0,
  "metadata": {
    "colab": {
      "provenance": []
    },
    "kernelspec": {
      "name": "python3",
      "display_name": "Python 3"
    },
    "language_info": {
      "name": "python"
    }
  },
  "cells": [
    {
      "cell_type": "markdown",
      "source": [
        "<a name=\"cell-TOC-FPN\"></a> \n",
        "\n",
        "### 0. [Computer Numbers](#cell-computer-numbers)\n",
        "0. [Floating-Point Numbers ${\\rm I\\!F}$](#cell-FPN)\n",
        "1. [Floating-Point Numbers ${\\rm I\\!F}$ in `Python`](#cell-FPN-py)\n",
        "  - [Special \"Numbers\" $\\pm\\infty$ and `NaN`](#cell-FPN-special)\n",
        "2. [Fixed-Point Numbers ${\\rm I\\!I}$](#cell-FxPN): Week 1 Programming Assignment Problem 1\n",
        "3. [(Pseudo)random Numbers](#cell-pseudo)  \n",
        "  0. [Bit Manipulation, Period, and Seed](#cell-pseudo) \n",
        "  1. [Modulus Recursion](#cell-mod-rec): Week 1 Programming Assignment Problem 2\n",
        "  2. [Generalized Feedback Shift Register Methods](#cell-mod-rec-gfsr)\n",
        "\n",
        "### 1. [Sampling](#cell-libs)\n",
        "0. [Beyond Uniform Sampling](#cell-rvs0)\n",
        "  0. [Inverse CDF Sampling](#cell-rvs)\n",
        "  1. [Rejection Sampling](cell-MCint-rejectionSampling)\n",
        "  2. [Importance Sampling](#cell-MCint-importanceSampling)\n",
        "1. [Integration by Sampling](#cell-INTest)\n",
        "  0. [Monte Carlo Integration](#cell-MCint)\n",
        "  1. [Improving Estimation](#cell-MCint-importanceSampling-VarRed)\n",
        "    - [More Importance Sampling](#cell-MCint-importanceSampling2)\n",
        "  2. [More Variance Reduction](#cell-MCint-importanceSampling-VarRed2) \n",
        "    - [Antithetic Sampling](#cell-MCint-importanceSampling-antithetic)\n",
        "    - [Control Variates](#cell-MCint-importanceSampling-variate)"
      ],
      "metadata": {
        "id": "DAG92bsZ5PJv"
      }
    },
    {
      "cell_type": "markdown",
      "source": [
        "# 0. Computer Numbers ([Return to TOC](#cell-TOC-FPN))\n",
        "---\n",
        "\n",
        "> *Computer numbers are not the same as real numbers, and the arithmatic operations on computer numbers are not exactly the same as those of ordinary arithmetic*. \n",
        ">\n",
        "> *The form of a mathematical expression and the way the expression should be evaluated in practice may be quite different.*\n",
        ">\n",
        "> -- James E. Gentle, Statistical Computing\n"
      ],
      "metadata": {
        "id": "VzwwwIbqXqoU"
      }
    },
    {
      "cell_type": "markdown",
      "source": [
        "<a name=\"cell-FPN\"></a> \n",
        "## 0.0 Floating-Point Numbers ${\\rm I\\!F}$  ([Return to TOC](#cell-TOC-FPN))\n",
        "---\n",
        "\n",
        "${\\rm I\\!F}$ is not ${\\rm I\\!R}$; but, if we employ ${\\rm I\\!F}$ carefully we can perform actual physical numerical computations in ${\\rm I\\!F}$ that can be substituted in place of their theoretical ${\\rm I\\!R}$ calculation counterparts.\n",
        "\n",
        "The ***floating-point numbers*** ${\\rm I\\!F}$ specification may be defined as follows.\n",
        "\n",
        "$$ \\overbrace{ \\left[ \\underbrace{ \\begin{array}{|c|} \\hline \\delta_0 \\\\ \\hline \\end{array}}_{\\text{sign}}\n",
        "\\underbrace{\\begin{array}{|c|c|c|c|c|c|} \\hline \\delta_1 & \\cdots & \\delta_{11}  \\\\ \\hline \\end{array}}_{\\text{$p$ binary representation }}\n",
        "\\underbrace{1.\n",
        " \\begin{array}{|c|c|c|} \\hline \\delta_{12}  & \\cdots & \\delta_{63} \\\\ \\hline \\end{array}}_{\\text{$s$ binary decimal fraction}} \\right] }^{\\Huge \\pm s \\times 2^p } $$    \n",
        "\n",
        "A 64-bit binary representation is based on the following.\n",
        "- a *sign* bit: $\\delta_0 \\longrightarrow \\pm$\n",
        "- *exponent* bits: $\\delta_1,  \\cdots, \\delta_{11} \\longrightarrow p$ in $2^p$ (where $2$ is the *base* or *radix*)\n",
        "\n",
        "  $$p = \\displaystyle \\sum_{i=0}^{10} \\delta_{11-i} 2^i - b$$\n",
        "\n",
        "  - $2^{11}=2048$ unique [exponent: $\\delta_1,  \\cdots, \\delta_{11}$] representations with `00000000000` $= 0$ to `11111111111` $= 2047$\n",
        "    \n",
        "  - the *bias* $b = $ `01111111111` $ = 1023 = \\sum_0^{9} 2^i = 2^{10}-1$ is the \"middle\" of the representation:\n",
        "    - `1??????????` $>$ `01111111111` and `0??????????` $\\leq$ `01111111111`\n",
        "    - $\\max p = 1024$ (although $1023$ would be symmetric: *more on this later*), $\\min p = -1023$, and $0$ is `01111111111` since `01111111111` $-$ `01111111111` $= 0$, i.e., \n",
        "\n",
        "      $$\\sum_0^{10} \\delta_{11-i} 2^i = b = \\sum_0^{9} 2^i \\quad \\Longrightarrow \\quad \\sum_0^{10} \\delta_{11-i} 2^i - b = 0$$\n",
        "  - the *range* is $\\require{cancel}$$\\pm2^p$ from $\\pm2^{-1023}$ to $\\pm2^{102\\overset{\\cancel{3}}{4}}$\n",
        "    - $\\pm2^{102\\overset{\\cancel{3}}{4}]} \\approx \\pm$`1.7976931348623157e+308` \n",
        "    - $\\pm2^{-1023} \\approx \\pm$`1.1125369292536007e-308` \n",
        "     \n",
        "    where the approximations above are *base $10$* representations which might feel more interpretable.\n",
        "\n",
        "- *significand/mantissa* bits: $s = 1.\\delta_{12}\\cdots\\delta_{63} \\in [1,2)$ are (*base $2$*) *binary decimal representations*\n",
        "  \n",
        "  $$ s = 2^0 + \\sum_{i=1}^{52} \\delta_{11+i} 2^{-i} \\quad \\text{ so that } \\quad x = \\pm \\, 2^p \\overbrace{\\left(2^0 + \\sum_{i=1}^{52} \\delta_{11+i} 2^{-i} \\right)}^{s}$$  \n",
        "  \n",
        "  The (*base $2$*) *binary decimal representation* $\\delta_{12}=\\delta_{13}=1, \\delta_{i>13}=0$ is $s=1.11000_\\cdots$ which is $1.75$ in *base $10$*\n",
        "  - $s$ is *normalized*, meaning in conjuction with $\\pm \\, 2^p$ it facilitates the scientific notation $\\pm s \\times 2^p$\n",
        "  - $1 \\leq s < $ *base*, so for *base $2$* then $1 \\leq s<2$; except,\n",
        "    - the *hiddent digit* `1.` is included unless all *exponent bits* are `0` \n",
        "    - so when the *exponent* $p=-1023$ the *hidden bit* \"disappears\" and the first *significand bit* $\\delta_{12}$ now multiplies $2^{-1}$ rather than $2^0$; the second *significand bit* $\\delta_{13}$ now multiplies $2^{-1}$ from $2^{-2}$; and in general the *significand bit* $\\delta_{11+i}$ now multiplies $2^{-i+1}$ rather than $2^{-i}$.\n",
        "\n",
        "   This *graceful underflow* extends the lower end of the *exponent range* from $p =$ `-1023` to $p =$ `-1023-51 = -1074` (since the last bit now corresponds to $2^{-51}$), thereby increasing the precision near `0`.\n",
        "  \n",
        "  - So actually, the limits for the *significand* $s$ are $2^{-51} \\leq s < 2$ when $p =$ `-1023` and the *hidden bit* is turned off for *graceful underflow*. \n",
        "\n",
        "Notice that when $p >$ `-1023` and the *significand* $s$ is not in the *graceful underflow* regime, the smallest contributing bit in the representation is $2^{-52} \\approx $ `2.220446049250313e-16`, which occurs when $\\delta_{63}=1$ and $\\delta_{12\\leq i<62}=0$.\n",
        "\n",
        "- However, this means that in this $16^{th}$ *base $10$* *decimal* location, the smallest represntable digit is `2` $>$ `1`.\n",
        "- Thus, not every digit can be represented in this $16^{th}$ *base $10$* *decimal* location; so, only the first 15 digits are *exactly correct*; and, thus, `resolution=1e-15` or `precision=15`."
      ],
      "metadata": {
        "id": "aZCgqJRA5Zuo"
      }
    },
    {
      "cell_type": "markdown",
      "source": [
        "<a name=\"cell-FPN-py\"></a> \n",
        "## 0.1 Floating-Point Numbers ${\\rm I\\!F}$ in `Python` ([Return to TOC](#cell-TOC-FPN))\n",
        "---"
      ],
      "metadata": {
        "id": "BmStYxQV8_Ws"
      }
    },
    {
      "cell_type": "code",
      "execution_count": 14,
      "metadata": {
        "id": "WWJSVW0v5B9_"
      },
      "outputs": [],
      "source": [
        "# You can look at the available resolution of floating-point numbers directly:\n",
        "print(2**-52, \": 16 total digits present\")\n",
        "print(2**-100, \": 16 total digits present, still\")"
      ]
    },
    {
      "cell_type": "code",
      "source": [
        "# You can look at the available range directly (and break it):\n",
        "print(10.**308, ': \"Cool\", followed by \"Not Cool\"')\n",
        "print(10.**309, ': \"Not Cool\"')"
      ],
      "metadata": {
        "id": "TKim5q035pra"
      },
      "execution_count": 14,
      "outputs": []
    },
    {
      "cell_type": "code",
      "source": [
        "# play around to find out the range limits and behavior:\n",
        "#2.**-(1023+52) # every single exponent and significand bit is 0\n",
        "#2.**-(1023+51) # all exponent bits are 0 but the last significand bit is 1\n",
        "#2.**-1023 # the first significand bits is 1 and all other significand bits are 0\n",
        "#2.**1024 # so actually p=1024 is the limit, not p=1023\n",
        "#2.**1023"
      ],
      "metadata": {
        "id": "bL7SyKrX5_P2"
      },
      "execution_count": 14,
      "outputs": []
    },
    {
      "cell_type": "code",
      "source": [
        "# You can also just look up these specs:\n",
        "import numpy as np # give package a simpler standard alias\n",
        "# https://numpy.org/doc/stable/reference/generated/numpy.finfo.html\n",
        "np.finfo(float), np.finfo(float).precision"
      ],
      "metadata": {
        "id": "250NEXlz6Gqy"
      },
      "execution_count": null,
      "outputs": []
    },
    {
      "cell_type": "code",
      "source": [
        "# You can look at the bit string representations as well:\n",
        "# https://pypi.org/project/bitstring/\n",
        "! pip install bitstring # install a package not immediately available"
      ],
      "metadata": {
        "id": "xycezoASi_pR"
      },
      "execution_count": 18,
      "outputs": []
    },
    {
      "cell_type": "code",
      "source": [
        "import bitstring\n",
        "# Check out www.h-schmidt.net for an interactive 32-bit floating point demonstration.\n",
        "# https://stackoverflow.com/questions/16444726/binary-representation-of-float-in-python-bits-not-hex\n",
        "# i.e., bitstring.BitArray(float=1.0, length=32).bin\n",
        "print(bitstring.BitArray(float=2.5, length=64).bin)"
      ],
      "metadata": {
        "id": "qhPx1zk26TUb"
      },
      "execution_count": 18,
      "outputs": []
    },
    {
      "cell_type": "code",
      "source": [
        "# Here's the graceful underflow from the hidden digit in action:\n",
        "print(bitstring.BitArray(float=2.**-(1023+0), length=64).bin)\n",
        "print(bitstring.BitArray(float=2.**-(1023+48), length=64).bin)"
      ],
      "metadata": {
        "id": "hnFR8MZg6zb7"
      },
      "execution_count": 18,
      "outputs": []
    },
    {
      "cell_type": "code",
      "source": [
        "# Here are some interesting floating point numbers:\n",
        "print(\"Largest possible 64-bit floating point number 1.7976931348623157e+308:\")\n",
        "print(bitstring.BitArray(float=1.7976931348623157e+308, length=64).bin)\n",
        "print(\" note the ^0^ there... interesting...\")\n",
        "\n",
        "print(\"\\n1:\", bitstring.BitArray(float=1., length=64).bin)\n",
        "print(\"0:\", bitstring.BitArray(float=0., length=64).bin)"
      ],
      "metadata": {
        "id": "al4PqRws645L"
      },
      "execution_count": 36,
      "outputs": []
    },
    {
      "cell_type": "markdown",
      "source": [
        "<a name=\"cell-FPN-special\"></a> \n",
        "### $\\circ$ Special \"Numbers\" $\\pm\\infty$ and `NaN` ([Return to TOC](#cell-TOC-FPN))\n",
        "---\n",
        "\n",
        "Numeric values are not the only elements in the set of floating-point numbers. Namely, `NaN` and `Inf` are floating-point \"numbers\", too. It's just that `NaN` and `Inf` have *special reserved representations*. "
      ],
      "metadata": {
        "id": "WUSap6RQLF0L"
      }
    },
    {
      "cell_type": "code",
      "source": [
        "import numpy as np\n",
        "type(0.), type(1.), type(2**-52), type(np.Inf), type(np.NaN) "
      ],
      "metadata": {
        "id": "VXny-Gl9rlX6"
      },
      "execution_count": 25,
      "outputs": []
    },
    {
      "cell_type": "code",
      "source": [
        "print(\"0     \", bitstring.BitArray(float=0., length=64).bin)\n",
        "print(\"1     \", bitstring.BitArray(float=1., length=64).bin)\n",
        "print(\"np.Inf\", bitstring.BitArray(float=np.Inf, length=64).bin)\n",
        "print(\"np.NaN\", bitstring.BitArray(float=np.NaN, length=64).bin)\n",
        "# Do you see what the special reserved representations entail?"
      ],
      "metadata": {
        "id": "nUen_4NNLprb"
      },
      "execution_count": 25,
      "outputs": []
    },
    {
      "cell_type": "markdown",
      "source": [
        "The *significand* bits are immaterial when representing `Inf`, so they get used to distinguish `NaN` from `Inf`. So, to represent `NaN`\n",
        "- all *exponent* bits are `1` (as with `Inf`)\n",
        "- and additionally at least one *signficand* bit (by default the first) is `1`\n",
        "\n",
        "  (as opposed to `Inf`, where all the `signficand` bits are `0`)\n",
        "\n",
        "Here are some examples of how Python handles these ***special numbers***."
      ],
      "metadata": {
        "id": "E3St_XGEsW2L"
      }
    },
    {
      "cell_type": "code",
      "source": [
        "print(\"0    :\", bitstring.BitArray(float=0, length=64).bin)\n",
        "print(\"np.pi:\", np.pi)\n",
        "print(\"np.pi:\", bitstring.BitArray(float=np.pi, length=64).bin)\n",
        "\n",
        "print(\"\\n np.Inf         :\", bitstring.BitArray(float=np.Inf, length=64).bin)\n",
        "print(\" np.Inf + np.pi :\", bitstring.BitArray(float=np.Inf+np.pi, length=64).bin)\n",
        "print(\" np.Inf * np.pi :\", bitstring.BitArray(float=np.Inf*np.pi, length=64).bin)\n",
        "print(\" np.pi / np.Inf :\", bitstring.BitArray(float=np.pi/np.Inf, length=64).bin)\n",
        "print(\"-np.Inf         :\", bitstring.BitArray(float=-np.Inf, length=64).bin)\n",
        "print(\" 10**np.Inf     :\", bitstring.BitArray(float=10.**(np.Inf), length=64).bin)\n",
        "print(\" 10**-np.Inf    :\", bitstring.BitArray(float=10.**(-np.Inf), length=64).bin)\n",
        "\n",
        "print(\" np.Inf > np.pi :\", np.Inf > np.pi)\n",
        "print(\" np.Inf < np.pi :\", np.Inf < np.pi)\n",
        "print(\"-np.Inf < np.pi :\", -np.Inf < np.pi)\n",
        "\n",
        "print(\"\\n np.Inf - np.Inf :\", np.Inf-np.Inf)\n",
        "print(\" np.Inf / np.Inf :\", np.Inf/np.Inf)\n",
        "print(\" 0 * np.Inf      :\", 0*np.Inf)\n",
        "\n",
        "print(\"\\nnp.NaN          :\", bitstring.BitArray(float=np.NaN, length=64).bin)\n",
        "print(\"np.Inf          :\", bitstring.BitArray(float=np.Inf, length=64).bin)\n",
        "print(\"np.NaN + np.pi  :\", bitstring.BitArray(float=np.NaN+np.pi, length=64).bin)\n",
        "print(\"np.NaN + np.Inf :\", bitstring.BitArray(float=np.NaN+np.Inf, length=64).bin)\n",
        "print(\"np.NaN < np.pi  :\", np.NaN < np.pi)\n",
        "print(\"np.NaN < np.Inf :\", np.NaN < np.Inf)"
      ],
      "metadata": {
        "id": "I4Qc75QwsXiA"
      },
      "execution_count": 26,
      "outputs": []
    },
    {
      "cell_type": "markdown",
      "source": [
        "Note that the `np.NaN` special number is only accessibly through `np.Inf` and `np.NaN` operations or direct specifications (e.g., as \"missing values\"). This is preferable since if numerical operations that are not defined we'd prefer for the operation to raise a useful error instead of just returning in `np.NaN`."
      ],
      "metadata": {
        "id": "xyXJWcLAs1dh"
      }
    },
    {
      "cell_type": "code",
      "source": [
        "0. / 0."
      ],
      "metadata": {
        "id": "m0Qds5xls2Lt"
      },
      "execution_count": 27,
      "outputs": []
    },
    {
      "cell_type": "markdown",
      "source": [
        "<a name=\"cell-FxPN\"></a> \n",
        "## 0.2 Fixed-Point Numbers ${\\rm I\\!I}$  ([Return to TOC](#cell-TOC-FPN))\n",
        "---\n",
        "\n",
        "The material so far has focussed on ***floating-point numbers*** ${\\rm I\\!F}$ (which model, or approximate ${\\rm I\\!R}$). Only the *exponent* and the *sign bits* from ***floating-point numbers*** are needed to implement ***fixed-point numbers*** ${\\rm I\\!I}$ (which model, or approximate $\\mathbb{Z}$). However, there's still some room for interesting specifications for ${\\rm I\\!I}$, such as the *two's complement* representation of negative numbers (described in the last paragraph on page 86 in the James E. Gentle's **Computational Statistical** textbook).\n",
        "\n",
        "- You'll create a binary string representation for ***fixed-point numbers*** ${\\rm I\\!I}$ with a simple sign bit (rather than ***two's complement***) scheme to represent positive and negative integers in the [Week 1 Programming Portfolio Assignment]()."
      ],
      "metadata": {
        "id": "B7rK52T08FJC"
      }
    },
    {
      "cell_type": "markdown",
      "source": [
        "## 0.3 (Pseudo)random Numbers ([Return to TOC](#cell-TOC-FPN))\n",
        "---\n",
        "\n",
        "Assuming the world isn't a simulation, we can observe ***real randomness*** in nature. Things that we might consider random are: \n",
        "- How many children does a person in a population have? \n",
        "- How many leaves does a tree in a forest have?\n",
        "- How much time is there between the arrival of two waves?\n",
        "- How many cars will we observe in a certation at a specific time of day?\n",
        "\n",
        "While such numbers can be measured and inputed to a computer for use (as is done by [random.org](https://www.random.org/)), most of the time when we say we're using \"random numbers\" in the context of a computer, we're actually using ***pseudorandom numbers***.\n",
        "\n",
        "***Pseudorandom numbers*** are deterministic sequences of numbers which exhibit apparent \"randomness\" to both the casual and critical observer.\n",
        "\n",
        "- From a programming perspective, the reproducibility pseudorandom number generation is a very useful property facilitating troubleshooting and testing."
      ],
      "metadata": {
        "id": "jM6mdSs9YCqh"
      }
    },
    {
      "cell_type": "markdown",
      "source": [
        "<a name=\"cell-pseudo\"></a>\n",
        "### 0.3.0 Bit Manipulation, Period, and Seed ([Return to TOC](#cell-TOC-FPN))\n",
        "--- \n",
        "\n",
        "***Floating point numbers*** ${\\rm I\\!F}$ (which model, or approximate ${\\rm I\\!R}$) and ***fixed-point numbers*** ${\\rm I\\!I}$ (which model, or approximate $\\mathbb{Z}$) are stored as ***bitstrings***.  To produce ***pseudorandom numbers***, then, ***bitstrings*** can be deterministically \"shuffled\" (or transformed) into other ***bitstrings***. This creates ***pseudorandom number sequences*** which will always be the same when started from the same ***bitstring***. Of course, the \"quality\" of the deterministically generated ***pseudorandom number sequences*** depends on the apparent \"randomness\" of the generated sequence. This sort of \"deterministic shuffling\" with ***bitstring manipulation*** is how ***pseudorandom numbers*** are created on computers.\n",
        "\n",
        "- The starting point of a ***pseudorandom number sequences*** is called the ***pseudorandom number seed***, or the ***random number seed***, or just the ***seed***.\n",
        "\n",
        "- Since computer number representations are finite, a deterministic function that produces the next number based on the current ***state*** will eventually complete its ***period*** and begin to cycle.\n",
        "\n",
        "  > A good ***pseudorandom number generator*** will produce ***pseudorandom number sequences*** with a long ***period*** so it doesn't provide cycling sequences of \"random\" numbers."
      ],
      "metadata": {
        "id": "TcsVkZWJBMo0"
      }
    },
    {
      "cell_type": "markdown",
      "source": [
        "<a name=\"cell-mod-rec\"></a>\n",
        "\n",
        "### 0.3.1 Modulus Recursion ([Return to TOC](#cell-TOC-FPN))\n",
        "---\n",
        "\n",
        "***Bitstring manipulation*** can be implicitly achieved with mathematical ***modulus recursion*** formulations such as \n",
        "\n",
        " $$u_k = au_{k-1} \\text{ mod } m$$\n",
        "\n",
        "which produces the sequence $\\{u_k: k=1,\\cdots,n\\}$ based on some ***seed*** $u_0$. The ***modulus recursion*** specification here is a ***first order sequential congruential method***.\n",
        "\n",
        "- Rather than leveraging a ***bitstring manipulation*** algorithm directly, in the [Week 1 Programming Assignment]() you'll create apparent \"randomness\" with ***modulus recursion*** and explore ***recursion***, ***pseudorandom number sequences***, and ***period*** etc. "
      ],
      "metadata": {
        "id": "PZ_MnZc9ZwrE"
      }
    },
    {
      "cell_type": "markdown",
      "source": [
        "<a name=\"cell-mod-rec-gfsr\"></a>\n",
        "\n",
        "### 0.3.2 Generalized Feedback Shift Register Methods ([Return to TOC](#cell-TOC-FPN))\n",
        "---\n",
        "\n",
        "A standard ***bitstring manipulation pseudorandom number generator*** is the ***Mersenne Twister***. The ***Mersenne Twister*** is a ***generalized feedback shift register (GFSR)*** method which produces ***bitstring manipulation*** with very good apparent \"randomness\" properties. The standard version of the ***Mersenne Twister*** is called `MT19937` because it has a ***period*** of $2^{19937-1}$ unique numbers before it begins to re-cycle through its ***pseudorandom number sequence***."
      ],
      "metadata": {
        "id": "Ya9NgnIMoxiw"
      }
    },
    {
      "cell_type": "code",
      "source": [
        "from IPython.display import YouTubeVideo\n",
        "# https://www.youtube.com/watch?v=_tN2ev3hO14?t881s\n",
        "# use the above link to start at t881s\n",
        "YouTubeVideo('_tN2ev3hO14', width=1024, height=512)"
      ],
      "metadata": {
        "colab": {
          "base_uri": "https://localhost:8080/",
          "height": 534
        },
        "id": "i_O5NsrEBSVR",
        "outputId": "7db346e0-0ddf-4c4c-b0c2-1a8feb18476f"
      },
      "execution_count": null,
      "outputs": [
        {
          "output_type": "execute_result",
          "data": {
            "text/plain": [
              "<IPython.lib.display.YouTubeVideo at 0x7feaa7f23f50>"
            ],
            "text/html": [
              "\n",
              "        <iframe\n",
              "            width=\"1024\"\n",
              "            height=\"512\"\n",
              "            src=\"https://www.youtube.com/embed/_tN2ev3hO14\"\n",
              "            frameborder=\"0\"\n",
              "            allowfullscreen\n",
              "        ></iframe>\n",
              "        "
            ],
            "image/jpeg": "[encoded data removed]"
          },
          "metadata": {},
          "execution_count": 9
        }
      ]
    },
    {
      "cell_type": "markdown",
      "source": [
        "> GFSR methods are described in more detail starting on page 16 of Keith Knight's STA410 [notes4.pdf](https://q.utoronto.ca/courses/296804/files?preview=24222606) document."
      ],
      "metadata": {
        "id": "6U9HiPR1qdrI"
      }
    },
    {
      "cell_type": "markdown",
      "source": [
        "<a name=\"cell-libs\"></a>\n",
        "# 1. Sampling ([Return to TOC](#cell-TOC-FPN))\n",
        "--- \n",
        "\n",
        "Random number generation for specific probability distributions in `Python` is available from the [pleasantly comprehensive](https://docs.scipy.org/doc/scipy/reference/stats.html) statistical library [`scipy.stats`](https://scipy.github.io/devdocs/tutorial/stats.html), which by default uses the [NumPy `rng`](https://scipy.github.io/devdocs/tutorial/stats.html#random-number-generation) for pseudorandom number generation. \n",
        " \n",
        "- Python's [`random`](https://docs.python.org/3/library/random.html) functionality \"uses the Mersenne Twister as the core generator\", but Numerical Python, (i.e., [NumPy](https://numpy.org/doc/stable/user/whatisnumpy.html)) [`np.random`](https://numpy.org/doc/stable/reference/random/#quick-start) functionality uses \"PCG64 which has better statistical properties than the legacy MT19937\" (which is nonetheless [still available](https://numpy.org/doc/stable/reference/random/bit_generators/mt19937.html)) as an option. \n",
        "\n",
        "> In Python, resources like `scipy.stats` and those previously used above are accessed with module imports, assuming the modules have been installed in the running Python environment. The first three `import` statements shown below were all run previously above, and the fourth import statement for `scipy.stats` is another form available for import statements. "
      ],
      "metadata": {
        "id": "_oKU_0QZBo0Z"
      }
    },
    {
      "cell_type": "code",
      "source": [
        "import bitstring # `! pip install bitstring` if this isn't yet installed\n",
        "# `pip install` will generally install anything you ask it to install.\n",
        "# More careful version capatiblity management is available with \n",
        "# `conda install` or `mamba install` (a faster compatibility solver).\n",
        "from IPython.display import YouTubeVideo # loading a function from a submodule\n",
        "import numpy as np # loading a module with a shorthand name\n",
        "from scipy import stats # loading just the submodule `stats`"
      ],
      "metadata": {
        "id": "vhODN9AbZQeQ"
      },
      "execution_count": 29,
      "outputs": []
    },
    {
      "cell_type": "markdown",
      "source": [
        "<a name=\"cell-rvs0\"></a>\n",
        "## 1.0 Beyond Uniform Sampling ([Return to TOC](#cell-TOC-FPN))\n",
        "--- \n",
        "\n",
        "Analysis and testing (of the apparent \"randomness\") of ***pseudorandom numbers*** is a less active area of reasearch today than it once was, as \n",
        "***pseudorandom number generation*** from specific distributions for use by the practitioner is generally considered \"solved\" by libraries like [`scipy.stats`](https://scipy.github.io/devdocs/tutorial/stats.html). Thus, algorithmic details for sampling from specific important distributions (such as normal distributions) will be ignored in favor of more general sampling methods. Suffice it to say that much of the ***pseudorandom number generation*** provided by [`scipy.stats`](https://docs.scipy.org/doc/scipy/reference/stats.html) is created on the basis of ***bitstring*** \"shuffling\" followed by general methods that are able to repurpose these in a manner that makes them representative of samples from a chosen ***target distribtion***. \n",
        "\n",
        "> For some examples of sampling methods for normal distributions, please see pages 1-15 of Keith Knight's STA410 [notes6.pdf](https://q.utoronto.ca/courses/296804/files?preview=24222606) document, while the more general methods covered in the notes below are detailed in the [notes5.pdf](https://q.utoronto.ca/courses/296804/files?preview=24222587) and [notes4.pdf](https://q.utoronto.ca/courses/296804/files?preview=24222606) documents."
      ],
      "metadata": {
        "id": "t0Mdwcru39Kr"
      }
    },
    {
      "cell_type": "markdown",
      "source": [
        "<a name=\"cell-rvs\"></a>\n",
        "### 1.0.0 Inverse CDF Sampling ([Return to TOC](#cell-TOC-FPN))\n",
        "--- \n",
        "\n",
        "The \"naive\" general solution to sampling from specified probability distributions is to apply the ***inverse CDF transformation*** to ***uniform random variables*** $U_i \\sim U(0,1)$ which are generated from ***bitstring manipulation*** based ***pseudorandom number generation*** algorithms such as `MT19937` and `PCG64`. Specifically, for ***inverse CDF transformation*** $x = P_X^{-1}(u)$ for the random variable $X$ \n",
        "\n",
        "$$Pr\\left(P_X^{-1}(U_i) \\leq x\\right) = Pr\\left(X_i \\leq x\\right) = P_X(x) \\quad \\Longrightarrow \\quad X_i \\sim p_X(x)$$\n",
        "\n",
        "\n",
        "|![](https://upload.wikimedia.org/wikipedia/commons/c/cc/Inverse_Transform_Sampling_Example.gif)|\n",
        "|-|\n",
        "|https://en.wikipedia.org/wiki/Inverse_transform_sampling|"
      ],
      "metadata": {
        "id": "mcvvcfxJZVhR"
      }
    },
    {
      "cell_type": "code",
      "source": [
        "import matplotlib.pyplot as plt\n",
        "n=10000\n",
        "u,X = stats.uniform.rvs(size=n),stats.gamma(a=3)\n",
        "x = X.ppf(u)\n",
        "support = np.linspace(0,10,100)\n",
        "plt.hist(X.ppf(u), density=True, bins=100); plt.plot(support, X.pdf(support));"
      ],
      "metadata": {
        "id": "fWRVgK8OVLKs"
      },
      "execution_count": 30,
      "outputs": []
    },
    {
      "cell_type": "markdown",
      "source": [
        "<a name=\"cell-MCint-rejectionSampling\"></a>\n",
        "\n",
        "### 1.1.1 Rejection Sampling ([Return to TOC](#cell-TOC-FPN))\n",
        "\n",
        "---\n",
        "\n",
        "Another way to sample from $p_X(x)$ is to sample from a ***proposal distribution*** $\\tilde p_{\\tilde X} (\\tilde x)$ that is different than the ***target distribution*** $ p_{ X} ( x)$ and then subsequently correct the representation of the sampling to match the intended ***target distribution*** $p_{ X} ( x)$ distribution through a ***rejection sampling*** process.\n",
        "\n",
        "\n",
        "0. If there is some scaler $c$ such that $c \\times \\tilde p_{\\tilde X} ( x) > p(x)$ for all $x$ then proceed to step 1; otherwise, ***rejection sampling*** based on $\\tilde p_{\\tilde X}$ will not work\n",
        "1. Sample $\\tilde X_j \\sim \\tilde p_{\\tilde X} (\\tilde x)$ \n",
        "2. Keep $X_i=\\tilde X_j$ with probability $\\frac{p_{ X}(\\tilde X_j)}{c \\tilde p_X (\\tilde X_j)}$\n",
        "3. Discard $\\tilde X_j$ if it was not kept, and return to step 1 as desired \n",
        "\n",
        "> ***Rejection sampling*** turns a univariate sampling problem $X_i \\sim p_X(x)$ into a two-dimensional problem $(\\tilde X_j,U_j) \\sim \\tilde p(\\tilde x,u) = \\tilde p(\\tilde x) \\tilde p(u)$ where the conditional distribution\n",
        ">\n",
        "> $$\\tilde p\\left(X\\big| U < \\frac{p_X(X)}{c \\tilde p_{\\tilde X}(X)} \\right) = p_X(X)$$\n",
        ">\n",
        "> is identical to the distribution from which sampling is required. "
      ],
      "metadata": {
        "id": "zk0CYfq1lNMQ"
      }
    },
    {
      "cell_type": "code",
      "source": [
        "# distribution of interest\n",
        "X = stats.beta(2,2)\n",
        "support = np.linspace(0,1,100)\n",
        "plt.plot(support, X.pdf(support))\n",
        "\n",
        "# and distribution tilde_p(tilde_x) such that c*tilde_p(x)>p(x) for all x\n",
        "tilde_X = stats.uniform()\n",
        "n = 1000\n",
        "tilde_x = X.rvs(size=n)\n",
        "# along with other \n",
        "u = stats.uniform.rvs(size=n)\n",
        "\n",
        "c=1.6\n",
        "plt.plot(support, c*tilde_X.pdf(support)); plt.xlabel('X'); plt.ylabel('U')\n",
        "plt.scatter(tilde_x, c*u, color=['b' if u<(X.pdf(x)/c*tilde_X.pdf(x)) else 'r' for x,u in zip(tilde_x,u)]);"
      ],
      "metadata": {
        "id": "_D-JcBlqltdn"
      },
      "execution_count": 57,
      "outputs": []
    },
    {
      "cell_type": "markdown",
      "source": [
        "<a name=\"cell-MCint-importanceSampling\"></a>\n",
        "\n",
        "### 1.1.2 Importance Sampling ([Return to TOC](#cell-TOC-FPN))\n",
        "\n",
        "---\n",
        "\n",
        "Rather than filtering the samples of a ***proposal distribution*** to create a sample set reflecting the ***target distribution*** of interest $X_i \\sim p(x)$ as in ***rejection sampling***, all of the samples of the ***proposal distribution*** $\\tilde X_i \\sim \\tilde p(x)$ can be used in a weighted manner according to ***importance weights*** \n",
        "\n",
        "$$W_i^* = \\frac{p(\\tilde X_i)}{\\tilde p(\\tilde X_i)} \\quad \\text{ and } \\quad W_i = \\frac{ W_i^*}{\\sum_{i=1}^n  W_i^*}$$\n",
        "\n",
        "where the $W_i$ weighted random variables $\\tilde X_i$ are used in place of random variables $X_i \\sim p(x)$.\n",
        "\n",
        "If only $q(x)$ proportional to the desired ***target distribution*** $p(x) = cq(x)$ is known, ***importance sampling*** can still produce samples from $p(x)$ because the unknown proportionality constant $c$ will cancel in the normalization $\\require{cancel}$ since\n",
        "\n",
        "$$W_i = \\frac{ W_i^*}{\\sum_{i=1}^n  W_i^*} = \\frac{ p(\\tilde X_i)/\\tilde p(\\tilde X_i)}{\\sum_{i=1}^n  p(\\tilde X_i)/\\tilde p(\\tilde X_i)} = \\frac{ \\cancel{c}q(\\tilde X_i)/\\tilde p(\\tilde X_i)}{\\sum_{i=1}^n  \\cancel{c}q(\\tilde X_i)/\\tilde p(\\tilde X_i)}$$\n",
        "\n",
        "> In Bayesian analysis a posterior can be evaluated proportionally as\n",
        "> \n",
        "> $$p(\\theta | \\mathbf{x}) \\propto f(\\mathbf{x}|\\theta) p(\\theta) $$\n",
        "> \n",
        "> but usually not exactly because the (marginal likelihood) normalizing constant $f(\\textbf{x})$ tends to be very expensive to compute. \n",
        "> \n",
        "> Peforming ***importance sampling*** for a posterior distribution as the ***target distribution*** with the prior distribution as the ***proposal distribution*** $p(\\theta)$ leads to ***importance weights*** which are simply the normalized values of the likelihood \n",
        "> \n",
        "> \\begin{align*}\n",
        "W_i = {} & \\frac{f(\\mathbf{x}|\\theta_i)}{\\sum_i f(\\mathbf{x}|\\theta_i)} \\; \\text{ since} \\\\\n",
        "W_i^* = {} & \\frac{p(\\theta_i | \\mathbf{x})}{p(\\theta_i)} = \\frac{f(\\mathbf{x}|\\theta_i) p(\\theta_i)\\overset{\\text{normalization}}{/ \\cancel{f(\\mathbf{x})}}}{p(\\theta_i)} = f(\\mathbf{x}|\\theta_i)\n",
        "\\end{align*}"
      ],
      "metadata": {
        "id": "yz3hsl8SlwlV"
      }
    },
    {
      "cell_type": "code",
      "source": [
        "# the importance sampling distribution tilde_p(tilde_x)\n",
        "tilde_X = stats.uniform()\n",
        "n = 100000\n",
        "tilde_x = tilde_X.rvs(size=n)\n",
        "\n",
        "# the target distribution p(x)\n",
        "X = stats.beta(2,2)\n",
        "w = X.pdf(tilde_x)/tilde_X.pdf(tilde_x)\n",
        "w = w/w.sum()\n",
        "\n",
        "support = np.linspace(0,1,100)\n",
        "plt.hist(tilde_x, density=True, bins=50, alpha=0.25)\n",
        "plt.plot(support, tilde_X.pdf(support))\n",
        "\n",
        "plt.hist(tilde_x, weights=w, density=True, bins=50, alpha=0.5)\n",
        "plt.plot(support, X.pdf(support));"
      ],
      "metadata": {
        "id": "RXb16Wyclv_y"
      },
      "execution_count": 160,
      "outputs": []
    },
    {
      "cell_type": "markdown",
      "source": [
        "<a name=\"cell-INTest\"></a>\n",
        "\n",
        "# 1.1 Integration by Sampling ([Return to TOC](#cell-TOC-FPN))\n",
        "\n",
        "---\n",
        "\n",
        "If we can write\n",
        "\n",
        "$$ \\int f(x) dx \\; = \\int g(x)p(x) dx \\quad \\text{ then } \\quad \\int f(x) dx = E_{X\\sim p_X(x)}[g(x)]$$\n",
        "\n",
        "so  \n",
        "\n",
        "$$\\hat \\theta \\; \\text{ estimating }\\; E_X[g(x)] \\quad \\text{ also estimates } \\quad \\int f(x) dx$$\n",
        "\n",
        "If the ***central limit theorem*** for $\\hat \\theta$ estimating $E_X[g(x)]$ applies, then the ***standard error*** of the estimator defines how accurate our ***integral estimation*** is."
      ],
      "metadata": {
        "id": "5AaF6ARP03Jf"
      }
    },
    {
      "cell_type": "markdown",
      "source": [
        "<a name=\"cell-MCint\"></a>\n",
        "\n",
        "## 1.1.0 Monte Carlo Integration ([Return to TOC](#cell-TOC-FPN))\n",
        "\n",
        "---\n",
        "\n",
        "Since \n",
        "\n",
        "$$\\int_a^b \\!\\!\\!\\! f(x) \\frac{1}{b-a} dx = E_X[f(X)] \\text{ for } X\\sim U(a,b)$$\n",
        "\n",
        "if \n",
        "\n",
        "$$Y_i = (b-a)f(X_i) \\quad \\text{ then } \\quad E_X\\left[Y_i\\right] \\; = \\int_a^b \\!\\!\\!\\!(b-a) f(x) \\frac{1}{(b-a)} dx \\; = \\int_a^b \\!\\!\\!\\!f(x) dx \\quad \\text{ and } \\quad  \\bar Y_n \\sim N\\left(\\int_a^b \\!\\!\\!\\! f(x)  dx ,\\frac{Var[Y]}{n} \\right)$$\n",
        "\n",
        "and\n",
        "\n",
        "$$\\frac{\\bar Y_n - \\int_a^b \\!\\!f(x) dx}{\\sqrt{\\widehat{Var[Y]/n}}} \\sim t_{n-1}$$\n",
        "\n",
        "so \n",
        "\n",
        "$$\\text{the integration } \\quad \\displaystyle \\int_a^b \\!\\!\\!\\!f(x) dx \\quad \\text{ is estimated by } \\quad \\bar Y_n = \\frac{\\sum_{i=1}^n Y_i}{n} \\quad \\text{ where } \\quad Y_i = (b-a)f(X_i) \\; \\text{ and } \\; X_i\\sim U(a,b) $$\n",
        "\n",
        "|![](https://enricodegiuli.files.wordpress.com/2017/05/pi_30k.gif?resize=500%2C500)|\n",
        "|-|\n",
        "|https://en.wikipedia.org/wiki/Monte_Carlo_method|\n"
      ],
      "metadata": {
        "id": "2XH_hsQl1Kpg"
      }
    },
    {
      "cell_type": "code",
      "source": [
        "from scipy.integrate import quad\n",
        "\n",
        "plt.figure(figsize=(12,6))\n",
        "n = 50\n",
        "for i in range(500):\n",
        "  mcint = (stats.expon(scale=1/5).pdf(stats.uniform.rvs(size=n))**2).cumsum()/np.arange(1,n+1)\n",
        "  plt.plot(mcint[10:], 'b:', alpha=0.5)\n",
        "  mcint = (stats.expon(scale=1/5).pdf(stats.truncexpon(5, scale=1/5).rvs(size=n)))\n",
        "  mcint = mcint.cumsum()/np.arange(1,n+1)\n",
        "  plt.plot(mcint[10:], \"y:\", alpha=0.5)\n",
        "  \n",
        "mcint = (stats.expon(scale=1/5).pdf(stats.uniform.rvs(size=n))**2).cumsum()/np.arange(1,n+1)\n",
        "plt.plot(mcint[10:], c='b', label=\"expectation of squared exponential using standard unit uniform\")\n",
        "mcint = (stats.expon(scale=1/5).pdf(stats.truncexpon(5, scale=1/5).rvs(size=n)))\n",
        "mcint = mcint.cumsum()/np.arange(1,n+1)\n",
        "plt.plot(mcint[10:], c='y', label=\"expectation of exponential using truncated exponential\")\n",
        "plt.plot((n-10)*[quad(lambda x: stats.expon(scale=1/5).pdf(x)**2, a=0,b=1)[0]], c='red', label=\"truth\")\n",
        "plt.legend();"
      ],
      "metadata": {
        "id": "cS3UEE015xsm"
      },
      "execution_count": 45,
      "outputs": []
    },
    {
      "cell_type": "markdown",
      "source": [
        "<a name=\"cell-MCint-importanceSampling-VarRed\"></a>\n",
        "\n",
        "## 1.2.1 Improving Estimation ([Return to TOC](#cell-TOC-FPN))\n",
        "----\n",
        "\n",
        "Consider the two following integral estimations, which are equivalent by [the law](https://math.stackexchange.com/questions/415196/proving-the-law-of-the-unconscious-statistician) of the [unconscious statistician](https://en.wikipedia.org/wiki/Law_of_the_unconscious_statistician)\n",
        "\n",
        "$$\\int_0^1 5e^{-5x}5e^{-5x} dx = E_{X\\sim \\text{uniform}(0, 1)}[25e^{-10x}]= E_{X\\sim \\text{truncexpon}(5, 1)}[5e^{-5x}] $$ \n",
        "\n",
        "If by sampling from some distribution other than a uniform distribution as in ***Monte Carlo integration***\n",
        "- computations of $g(x)\\approx 0$ which do not meaningfully contribute to the integral are avoided, while\n",
        "- computations of $|g(x)| > 0$ which  meaningfully contribute to the integral are enriched\n",
        "\n",
        "then the efficiency of the estimation of the integral $\\int \\!\\!g(x)p(x) dx$ will be improved.  \n",
        "\n",
        "> This can be understood as reducing the variation of the \"sampled pdf\" values\n",
        ">\n",
        "> $\\;\\;$ `np.var(expon(scale=1/5).pdf(truncexpon(5, scale=1/5).rvs(size=n))))` \n",
        ">\n",
        "> $<$ `np.var(expon(scale=1/5).pdf(uniform.rvs(size=n))**2)`\n",
        ">\n",
        "> while still maintaining the desired expected value.\n",
        "\n",
        "\n",
        "Thus, effective use of ***inverse CDF sampling***, ***rejection sampling***, and ***importance sampling*** can provide increased computational efficiency for integral estimation. "
      ],
      "metadata": {
        "id": "ZtnAXTjc3pPY"
      }
    },
    {
      "cell_type": "code",
      "source": [
        "x=np.linspace(0,1,100)\n",
        "plt.plot(x, 25*np.exp(-10*x));"
      ],
      "metadata": {
        "id": "phNv5Nk45xT2"
      },
      "execution_count": 43,
      "outputs": []
    },
    {
      "cell_type": "code",
      "source": [
        "print(\"By sampling in a proportional manner to the density evalutions\")\n",
        "print(\"the variance of the resulting 'pdf samples'\")\n",
        "print(np.var(stats.expon(scale=1/5).pdf(stats.truncexpon(5, scale=1/5).rvs(size=n))))\n",
        "print(\"is much less than\")\n",
        "print(np.var(stats.expon(scale=1/5).pdf(stats.uniform.rvs(size=n))**2))\n",
        "print(\"the variance of the 'pdf samples' that do not try to minimize\")\n",
        "print(\"the presence of 'extreme value' 0's\")"
      ],
      "metadata": {
        "id": "uucEqPX33x0Y"
      },
      "execution_count": 51,
      "outputs": []
    },
    {
      "cell_type": "markdown",
      "source": [
        "<a name=\"cell-MCint-importanceSampling2\"></a>\n",
        "\n",
        "### More Importance Sampling ([Return to TOC](#cell-TOC-FPN))\n",
        "---\n",
        "\n",
        "The example above demonstrates that estimation of\n",
        "\n",
        "$$\\int g(x) p(x) dx$$\n",
        "\n",
        "is most efficient if $p(x) \\propto g(x)$. When the available factorization $g(x)p(x)$ does not lend itself to this objective, ***importance sampling*** based on\n",
        "\n",
        "$$\\int g(x) p(x) dx = \\int g(x) \\frac{p(x)}{\\tilde p(x)} \\tilde p(x) dx$$\n",
        "\n",
        "can help improve the proportionality by and thereby reduce the variance of the estimation.\n",
        "\n",
        "> ***Importance sampling*** is effective at reducing sampling variance by choosing $\\tilde p(x)$ which\n",
        "> \n",
        "> 1. rarely samples $x$ where $g(x)\\approx 0$ so $\\left(g(x) \\frac{p(x)}{\\tilde p(x)} \\right)$ remains large\n",
        "> 2. has heavier tails than $p(x)$ so the weights $W_i^* = \\frac{p(x)}{\\tilde p(x)}$ do not explode\n",
        ">\n",
        "> so that $\\left(g(x) \\frac{p(x)}{\\tilde p(x)} \\right)$ is effectively bounded and therefore has reduced variance.\n",
        "> ***Importance sampling*** thus oversamples $\\left(g(x) \\frac{p(x)}{\\tilde p(x)} \\right)$ values which dominate the integration so that the function is better represented and more precisely estimated in the key areas, but then appropriately downweighting the oversampling to maintain the correct expected value.\n",
        "> \n",
        "> - When ***importance sampling***  is working well the ***importance weights*** will be relatively balanced so that the full diversity of the ***importance samples*** meaningfully contribute to the integral estimate, and the ***effective sample size*** remains close to the number of ***importance samples*** being used.\n",
        "\n",
        "For a posterior distribution $p(\\theta|\\mathbf{x}) = \\text{Beta}(2,2)$, the posterior probability\n",
        "\n",
        "$$\\Pr(0.95 < \\theta < 0.99 | \\mathbf{x}) = E_{\\theta|\\mathbf{x}}[1_{[.95,.99]}(\\theta)] = \\int 1_{[.95, .99]}(\\theta) p(\\theta|\\mathbf{x}) d\\theta$$\n",
        "\n",
        "will not be most efficiently calculated by naively basing estimation on samples from $p(\\theta|\\mathbf{x}) = \\text{Beta}(2,2)$. Instead, ***importance sampling*** from a uniform distribution (which is equivalent to ***Monte Carlo integration***) biases samples to be more useful for the integration estimation, by attempting make the proportionality \n",
        "$g(x) \\frac{p(x)}{\\tilde p(x)} \\propto \\tilde p(x)$ better than $g(x) \\propto p(x)$ so that $\\text{Var}_{\\tilde p(x)}(g(x) \\frac{p(x)}{\\tilde p(x)}) < \\text{Var}_{p(x)}(g(x))$."
      ],
      "metadata": {
        "id": "lCPbPaTZ5cfD"
      }
    },
    {
      "cell_type": "code",
      "source": [
        "X = stats.beta(2,2)\n",
        "tilde_X = stats.uniform()\n",
        "n = 10000\n",
        "tilde_x = tilde_X.rvs(size=n) \n",
        "x = X.rvs(size=n)\n",
        "w_ = X.pdf(tilde_x)/tilde_X.pdf(tilde_x)\n",
        "w = w_/w_.sum() # = X.pdf(tilde_x) in this case\n",
        "\n",
        "def region(x, a=.95,b=.99):\n",
        "  return (x>a)&(x<b)\n",
        "\n",
        "print(\"The Analytical Truth is: \", X.cdf(.99)-X.cdf(.95))\n",
        "print(\"Naive Beta(2,2) Samples: \", np.mean(region(x)))\n",
        "print(\"Importance Sampling V1: \", np.mean(region(tilde_x)*w_))\n",
        "print(\"Importance Sampling V2: \", (w*region(tilde_x)).sum())"
      ],
      "metadata": {
        "id": "oPXhWVZeBYnj"
      },
      "execution_count": 179,
      "outputs": []
    },
    {
      "cell_type": "code",
      "source": [
        "print(\"The variances on the samples used to estimate the integration are\")\n",
        "print(\"Naive Beta(2,2) Samples: \", np.var(region(x)))\n",
        "print(\"Importance Sampling V1: \", np.var(region(tilde_x)*X.pdf(tilde_x)))\n",
        "print(\"Importance Sampling V2: \", (w*(region(tilde_x)-(w*region(tilde_x)).sum())**2).sum()) # np.cov(region(tilde_x), aweights=w)"
      ],
      "metadata": {
        "id": "E0WPo9qaGYEM"
      },
      "execution_count": 179,
      "outputs": []
    },
    {
      "cell_type": "code",
      "source": [
        "# Why are there V1 and V2 versions of Importance Sampling?\n",
        "# Notice how their estimates are highly correlated but their variances are quite different!"
      ],
      "metadata": {
        "id": "4KNTRfN0DE6B"
      },
      "execution_count": 179,
      "outputs": []
    },
    {
      "cell_type": "markdown",
      "source": [
        "\n",
        "When estimating the integral using ***importance sampling***\n",
        "\n",
        "\\begin{align*}\n",
        "\\int g(x) p(x) dx & = {} \\int g(x) \\frac{p(x)}{\\tilde p(x)} \\tilde p(x) dx\\\\\n",
        "E_{p(x)}[g(x)] & = {} E_{\\tilde p(x)}\\left[g(x) \\frac{p(x)}{\\tilde p(x)} \\right]\n",
        "\\end{align*}\n",
        "\n",
        "the prescribed estimator is actually\n",
        "\n",
        "$$\\overline{W^* Y} =  \\underbrace{\\frac{\\sum_{i=1}^n W_i^* Y_i}{n}}_{E_{\\tilde p(x)}[W_i^*]=1} \\quad \\text{ as opposed to } \\quad \\overline{Y} = \\underbrace{\\sum_{i=1}^n W_i Y_i}_{E_{\\tilde p(x)}[W_i]=\\frac{1}{n}}$$\n",
        "\n",
        "$$\\text{where } \\quad Y_i = g(\\tilde X_i) \\quad \\tilde X_i \\sim \\tilde p(x) \\quad  W_i^* = \\frac{p(\\tilde X_i)}{\\tilde p(\\tilde X_i)} \\quad W_i = \\frac{ W_i^*}{\\sum_{i=1}^n  W_i^*}$$\n",
        "\n",
        "> The former estimator is \"recommended\" because the latter is slighly biased since it can be shown that\n",
        ">\n",
        "> $$E[\\overline{W^* Y}] =  E_{p(x)}[g(x)] \\quad \\text{ but } \\quad E[\\overline{Y}] = E[\\overline{W^* Y}] \\left(1 + \\frac{1}{n}Var(W_i^*)\\right) - \\frac{1}{n}Cov(W_i^*Y_i, W_i^*) + \\mathcal{O}(n^{-2})$$\n",
        "> \n",
        "> However, the bias can be estimated (and adjusted) with $\\widehat{\\text{Var}}(W_i^*)$ and $\\widehat{\\text{Cov}}(W_i^*Y_i, W_i^*)$; and, it can additionally be shown that the ***mean squared error*** \n",
        ">\n",
        "> $$\\text{E}[(\\overline{Y} - \\text{E}[\\overline{Y}])^2] = \\text{Var}(\\overline{Y}) + \\text{bias}[\\overline{Y}]^2 <  MSE(\\overline{W^* Y})$$\n",
        ">\n",
        "> whenever\n",
        ">\n",
        "> $$\\quad \\text{ whenever } \\quad \\text{Cor}(W_i^*Y_i, W_i^*) > \\frac{\\text{cv}(W^*_i)}{2\\text{cv}(Y_i)}$$\n",
        ">\n",
        ">   where, e.g., $\\text{cv}(Y_i) = \\frac{\\sigma_{Y_i}}{\\mu_{Y_i}}$ is the ***coefficient of variation***."
      ],
      "metadata": {
        "id": "O1DfbHSwrrni"
      }
    },
    {
      "cell_type": "code",
      "source": [
        "var_wy, cov_wy_w, cov_wy_w, var_w = np.cov(w*region(tilde_x), w).flatten()\n",
        "mean_wy, mean_w = np.mean(w*region(tilde_x)), np.mean(w)\n",
        "print(\"     bias\", \"*\",(1+var_w/n), '-', cov_wy_w/n, '+ O(', n**-2, ')')\n",
        "\n",
        "print(\"\\ncor(YW*, W*)\", cov_wy_w/(np.sqrt(var_wy*var_w)))\n",
        "print(\">\")\n",
        "print(\"cv(W*)/(2cv(YW*)\", (np.sqrt(var_w)/mean_w)/(2*np.sqrt(var_wy)/mean_wy))\n",
        "print(\"?\\n\\nIf not, the MSE for Importance Sampling V1 should be smaller\")\n",
        "print(\"than the MSE for Importance Sampling V2, as it is\")"
      ],
      "metadata": {
        "id": "I8lgPqlfBNRV"
      },
      "execution_count": 179,
      "outputs": []
    },
    {
      "cell_type": "markdown",
      "source": [
        "> Returning to our two estimators $\\overline{W^* Y}$ and $\\overline{Y}$, for the two samples \n",
        "> \n",
        "> 1. $\\{X_i = x_i: \\; X_i \\sim p(x) \\text{ for } i=1,\\cdots, n\\}$ \n",
        "> \n",
        "> 2. $\\{\\tilde X_i = \\tilde x_i: \\; \\tilde X_i \\sim \\tilde p( \\tilde x) \\text{ for } i=1,\\cdots, n\\}$\n",
        "> \n",
        "> and two sets of weights\n",
        "> 1. $\\left\\{w_i^* = \\frac{p(x_i)}{\\tilde p(x_i)} : i=1,\\cdots, n \n",
        "> \\right\\}$ \n",
        "> 2. $\\left\\{w_i = \\frac{w_i^*}{\\sum_{i=1}^n w_i^*} : i=1,\\cdots, n \\right\\}$\n",
        "> \n",
        "> the three estimands\n",
        "> \n",
        "> 1. $\\overline{g(x)} = \\frac{\\sum_{i=1}^n g(x_i)}{n} $\n",
        "> 2. $\\overline{w^*y}= \\frac{\\sum_{i=1}^n w_i^*y_i}{n}\\quad \\text{ where } \\quad  y_i= g(\\tilde x_i)$\n",
        "> 3. $\\bar y = \\sum_{i=1} w_i y_i \\quad \\text{ and still } \\quad y_i= g(\\tilde x_i) $\n",
        "> \n",
        "> all estimate $\\displaystyle \\int \\!\\! g(x) p(x) dx = \\int \\!\\! g(x) \\frac{p(x)}{\\tilde p(x)} \\tilde p(x) dx$ and have observed sample variances \n",
        "> \n",
        "> 1. $\\hat \\sigma^2_p = \\frac{\\sum_{i=1}^n(g(x_i)-\\overline{g(x)})^2}{n-1}$\n",
        "> 2. $\\hat \\sigma^2_{\\tilde p} = \\frac{\\sum_{i=1}^n(w_i^*y_i-\\overline{w^*y})^2}{n-1}$\n",
        "> 3. $\\hat \\sigma^2_{w} = \\sum_{i=1}^n w_i (y_i - \\bar y)^2$\n",
        "> \n",
        "> with \n",
        "> \n",
        "> - $\\hat \\sigma^2_{\\tilde p} < \\hat \\sigma^2_{p}$ if relative sampling correction factor $w_i^* = \\frac{p(\\tilde x_i)}{\\tilde p(\\tilde x_i)}$ tends to be larger (smaller) for smaller (larger) $y_i = g(\\tilde x_i)$ values so\n",
        ">\n",
        ">   $$\\frac{\\sum_{i=1}^n(w_i^*y_i-\\overline{w^*y})^2}{n-1} < \\frac{\\sum_{i=1}^n(g(x_i)-\\overline{g(x)})^2}{n-1}$$\n",
        "> \n",
        "> - $\\hat \\sigma^2_{w} < \\hat \\sigma^2_p$ if extreme $y_i = g(\\tilde x_i)$ values tend to have smaller oversampling correction factors $w_i = \\frac{p(\\tilde x_i)}{\\tilde p(\\tilde x_i)} \\big / \\! \\sum_{i=1}^n \\!\\frac{p(\\tilde x_i)}{\\tilde p(\\tilde x_i)}$ so \n",
        "> \n",
        "> $$\n",
        "\\begin{align*}\n",
        "\\sum_{i=1}^n w_i (y_i - \\bar y)^2 = & {} \\sum_{i=1}^n \\left(\\frac{p(\\tilde x_i)}{\\tilde p(\\tilde x_i)} \\big / \\! \\sum_{i=1}^n \\!\\frac{p(\\tilde x_i)}{\\tilde p(\\tilde x_i)} \\right) (g(\\tilde x_i) - \\overline{g(\\tilde x)})^2  \\\\\n",
        "< & {}\\sum_{i=1}^n \\frac{1}{n-1} (g( x_i) - \\overline{g( x)})^2\n",
        "\\end{align*}$$"
      ],
      "metadata": {
        "id": "axMzdC2Vytzo"
      }
    },
    {
      "cell_type": "markdown",
      "source": [
        "<a name=\"cell-MCint-importanceSampling-VarRed2\"></a>\n",
        "\n",
        "## 1.2.2 More Variance Reduction ([Return to TOC](#cell-TOC-FPN))\n",
        "----\n",
        "\n",
        "The previous two examples show that integral estimation is made more efficient by biasing samples towards the most relevant (non-zero) regions of the integration (while appropriately adjusting the integrand so that the expected value remains correct). \n",
        "\n",
        "Sometimes the variance can be further reduced by identifying and leveraging available correlations present in collections of estimators."
      ],
      "metadata": {
        "id": "bSZ9-Kwi6g0m"
      }
    },
    {
      "cell_type": "markdown",
      "source": [
        "<a name=\"cell-MCint-importanceSampling-antithetic\"></a>\n",
        "\n",
        "\n",
        "### Antithetic Sampling ([Return to TOC](#cell-TOC-FPN))\n",
        "\n",
        "---\n",
        "\n",
        "Suppose $\\bar x_1$ and $\\bar x_2$ are both unbiased estimators of the same target, and have correlation $\\rho = \\frac{Cov(\\bar x_1+\\bar x_2)}{\\sigma_{\\bar x_1}\\sigma_{\\bar x_2}}$. If (for simplicity) $\\sigma_{\\bar x_1}^2=\\sigma_{\\bar x_2}^2=\\frac{\\sigma^2}{n}$, then\n",
        "\n",
        "$$\n",
        "\\begin{align*}\n",
        "Var\\left(\\frac{\\bar x_1+\\bar x_2}{2}\\right) = {} & \\frac{Var(\\bar x_1)+Var(\\bar x_2)}{4} + \\frac{2Cov(\\bar x_1+\\bar x_2)}{4} \\\\\n",
        "= {} & \\frac{\\sigma^2}{2n} + \\frac{\\frac{\\sigma}{\\sqrt{n}}\\frac{\\sigma}{\\sqrt{n}}\\rho}{2} = \\frac{(1+\\rho)\\sigma^2}{2n}\n",
        "\\end{align*}$$\n",
        "\n",
        "So if $\\rho<0$ the averaged estimator could have substantially lower variance than either of the individuals estimators, and $\\rho<0$ is not as hard to achieve as might initially be imagined, e.g., \n",
        "- $\\rho_{\\bar x_1,\\bar x_2} < 0$ if $x_{2i} = -x_{1i}$ for $x_{1i}\\sim N(\\mu, \\sigma^2)$\n",
        "- $\\rho_{\\bar x_1,\\bar x_2} < 0$ if $x_{2i} = 1-x_{1i}$ for $x_{1i}\\sim U(0,1)$\n",
        "\n",
        "\n",
        "> ***Antithetic sampling*** is to some degree what motivates the ***Bagging*** of ***Random Forests*** where for tree-based precictions $t_k, j=1,\\cdots, K$ with a common variance $\\sigma^2_{t}$ and shared correlation $\\rho = \\frac{Cov(t_k,t_{k'})}{\\sigma^2_{t}}$\n",
        "> $$\n",
        "\\begin{align*}Var(\\bar t) = {} & \\frac{1}{K^2} \\sum_{k=1}^K \\sigma^2_t + \\frac{2}{K^2} \\sum_{k,k'} \\sigma_t^2 \\rho\\\\\n",
        "= {} & \\frac{\\sigma^2}{K} + \\frac{\\frac{2}{2}(K^2-K)\\sigma_t^2\\rho}{K^2}\n",
        " = \\rho \\sigma^2 + \\frac{(1-\\rho)\\sigma^2}{K}\n",
        "\\end{align*}$$\n",
        "> where gains from averaging for even positively correlated estimators will be beneficial.\n",
        "\n",
        "<!-- = \\frac{\\sigma^2}{K} + \\sigma_t^2\\rho - \\frac{\\sigma_t^2\\rho}{K} -->"
      ],
      "metadata": {
        "id": "YbYJRCb-KjZe"
      }
    },
    {
      "cell_type": "code",
      "source": [
        "# Here's an example using importance sampling, but notice\n",
        "# that the antithetical sampling is a general strategy that \n",
        "# could be used in other contexts besides importance sampling\n",
        "tilde_X = stats.uniform()\n",
        "X = stats.beta(2,2)\n",
        "n = 10000\n",
        "tilde_x = tilde_X.rvs(size=n) \n",
        "x = X.rvs(size=n)\n",
        "w = X.pdf(tilde_x)/tilde_X.pdf(tilde_x)\n",
        "\n",
        "print(\"True Value \", X.cdf(.99)-X.cdf(.95))\n",
        "print(\"Importance Sampling Estimate\")\n",
        "print(\"           \", (w*region(tilde_x)).mean())\n",
        "# Antithetical Sampling\n",
        "tilde_x_1 = w*region(tilde_x)\n",
        "tilde_x_2 = w*region(1-tilde_x)\n",
        "tilde_xs_ave = 0.5*(tilde_x_1.mean()+tilde_x_2.mean())\n",
        "print(\"Importance+Antithetical Sampling  Estimate\")\n",
        "print(\"           \", tilde_xs_ave)"
      ],
      "metadata": {
        "id": "B16043s7N7wL"
      },
      "execution_count": 202,
      "outputs": []
    },
    {
      "cell_type": "code",
      "source": [
        "print(\"Importance Sampling Variance\")\n",
        "print(np.var(w*region(tilde_x)))\n",
        "print(\"Importance+Antithetical Sampling Variance\")\n",
        "# here's one way to estimate the variance of the Antithetical Sampling estimate\n",
        "tilde_xs_var = 0.25*(np.var(tilde_x_1)/n + \n",
        "                     np.var(tilde_x_2)/n + \n",
        "                     (2/n**2)*np.cov(tilde_x_1, tilde_x_2)[0,1])\n",
        "print(tilde_xs_var*n) # n factor to rescale to single sample"
      ],
      "metadata": {
        "id": "Yt48xRlsONv7"
      },
      "execution_count": 202,
      "outputs": []
    },
    {
      "cell_type": "markdown",
      "source": [
        "<a name=\"cell-MCint-importanceSampling-variate\"></a>\n",
        "\n",
        "### Control Variates ([Return to TOC](#cell-TOC-FPN))\n",
        "\n",
        "---\n",
        "\n",
        "If correlation between estimators is known, regardless of the target of the estimators, the correlation may be exploited whenever the true value of auxiliary estimators is known.\n",
        "\n",
        "For any estimator $\\hat \\theta$ of interest and any other correlated estimator $\\hat \\lambda$\n",
        "\n",
        "- where the estimators need not even estimate the same target, e.g.,\n",
        "  $$E[\\hat \\theta] = \\theta  \\not = \\lambda = E[\\hat \\lambda]$$\n",
        "- and where $\\lambda$ and $Cov(\\hat \\theta, \\hat \\lambda)$ must be known so that\n",
        "\n",
        "  1. since $Cov(\\hat \\theta, \\hat \\lambda)$ is known the relative value of $\\hat \\lambda$ to $\\lambda$ is informative of the relative value of $\\hat \\theta$ to $\\theta$\n",
        "     - e.g., for $Cov(\\hat \\theta, \\hat \\lambda)>0$, then if $\\hat \\lambda > \\lambda$ it is likely that $\\hat \\theta > \\theta$ (and if $\\hat \\lambda < \\lambda$ it is likely that $\\hat \\theta < \\theta$)\n",
        "     \n",
        "  2. the estimator $\\hat \\theta + \\underset{- \\text{ when } \\hat \\lambda > \\lambda}{\\overset{+ \\text{ when } \\hat \\lambda > \\lambda}{\\beta (\\hat \\lambda-\\lambda)}}$ can be used to correct for expected under and over estimates in $\\hat \\theta$ based on observed under and over estimates of $\\hat \\lambda$ compared with $\\lambda$.\n",
        "\n",
        "Specifically, when the above requirements are met\n",
        "\n",
        "$$\n",
        "\\begin{align*}\n",
        "Var\\left(\\hat \\theta + \\beta (\\hat \\lambda-\\lambda)\\right) ={} & \\overbrace{Var\\left(\\hat \\theta \\right) + \\beta^2 Var (\\hat \\lambda) + 2 \\beta Cov \\left( (\\hat \\theta, \\hat \\lambda \\right)}^{\\frac{\\partial}{\\partial \\beta} Var\\left(\\hat \\theta + \\beta (\\hat \\lambda-\\lambda)\\right) \\,=\\, 0 \\; \\Rightarrow \\; 2\\beta Var(\\hat \\lambda ) +2 Cov(\\hat \\theta, \\hat \\lambda) \\,=\\,0} \n",
        "= \\; Var\\left(\\hat \\theta \\right) + \\left(-\\frac{Cov(\\hat \\theta, \\hat \\lambda)}{Var\\left(\\hat \\lambda \\right)}\\right)^2 Var\\left(\\hat \\lambda \\right) - 2\\frac{Cov(\\hat \\theta, \\hat \\lambda)}{Var\\left(\\hat \\lambda \\right)}Cov(\\hat \\theta, \\hat \\lambda) \\\\\n",
        "= {} & \\;  Var\\left(\\hat \\theta \\right) - \\frac{\\left(Cov(\\hat \\theta, \\hat \\lambda)\\right)^2}{Var\\left(\\hat \\lambda \\right)} < Var\\left(\\hat \\theta \\right)\n",
        "\\end{align*}\n",
        "$$\n",
        "\n",
        "where the above quantities can be emprically estimated from the samples in hand, and this method can be extended to include as many auxiliary estimators as are available with $\\hat \\theta + \\sum_{k=0}^K \\beta (\\hat \\lambda_k-\\lambda_k)$.\n",
        "\n",
        "> In importance sampling, it is known that $E[W_i^*] = 1$, \n",
        "> so a control variate estimator can be constructed as \n",
        "> $$\\overline{W^*Y} + \\beta (\\overline{W^*}-1)$$ \n",
        "> and while this will add bias of $\\mathcal{O}(\\frac{1}{n})$, the MSE of this estimator will eventually be better than that of $\\overline{W^*Y}$ for sufficiently large $n$."
      ],
      "metadata": {
        "id": "QGaOT73FKj1U"
      }
    },
    {
      "cell_type": "code",
      "source": [
        "# Here's the above example using importance sampling; however\n",
        "# control variates are a general methodology \n",
        "# that can be used in contexts besides importance sampling\n",
        "\n",
        "# E[W*] = 1 is known; thus a control variate estimator is\n",
        "# \\bar{w*y} + \\beta (\\bar{w*} - 1)\n",
        "\n",
        "tilde_X = stats.uniform()\n",
        "X = stats.beta(2,2)\n",
        "n = 10000\n",
        "tilde_x = tilde_X.rvs(size=n) \n",
        "x = X.rvs(size=n)\n",
        "w = X.pdf(tilde_x)/tilde_X.pdf(tilde_x)\n",
        "\n",
        "def region(x, a=.95,b=.99):\n",
        "  return (x>a)&(x<b)\n",
        "\n",
        "print(\"True Value \", X.cdf(.99)-X.cdf(.95))\n",
        "print(\"Importance Sampling Estimate\")\n",
        "print(\"           \", (w*region(tilde_x)).mean())\n",
        "# Control Variates\n",
        "beta = -np.cov(w*region(tilde_x), w, ddof=1)[0,1]/np.var(w, ddof=1)\n",
        "# an optimal beta can be found as shown on top of the equation above\n",
        "print(\"Importance+Control Variate Sampling Estimate\")\n",
        "print(\"           \", (w*region(tilde_x)).mean() + (w.mean()-1)*beta)\n",
        "print(\"Control Variate and beta values: \", (w.mean()-1), beta)"
      ],
      "metadata": {
        "id": "1d_Gh5jTQMZD"
      },
      "execution_count": 315,
      "outputs": []
    },
    {
      "cell_type": "code",
      "source": [
        "print(\"Importance Sampling Variance\")\n",
        "print(np.var(w*region(tilde_x)))\n",
        "print(\"Importance+Control Variate Sampling Variance\")\n",
        "# here's one way to estimate the variance of the Control Variate Sampling estimate\n",
        "tilde_cv_var = np.var(w*region(tilde_x), ddof=1) + \\\n",
        "               beta**2*np.var(1-w, ddof=1) + \\\n",
        "               2*beta*np.cov(w*region(tilde_x), w, ddof=1)[0,1]\n",
        "# or by the inequality derived above \n",
        "           # = np.var(w*region(tilde_x), ddof=1) - \\\n",
        "           #   np.cov(w*region(tilde_x), w, ddof=1)[0,1]**2/np.var(w, ddof=1)\n",
        "print(tilde_cv_var) # n factor to rescale to single sample"
      ],
      "metadata": {
        "id": "k2-IuoHOVsGm"
      },
      "execution_count": 315,
      "outputs": []
    },
    {
      "cell_type": "markdown",
      "source": [
        "*This example is inspired by Example 6.12 on page 190 in Chapter 6.4 **Variance Reduction Techniques** of the Givens and Hoeting **Computational Statistics** textbook*."
      ],
      "metadata": {
        "id": "D7hLluCzSGFK"
      }
    }
  ]
}